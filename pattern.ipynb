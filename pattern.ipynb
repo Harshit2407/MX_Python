{
  "nbformat": 4,
  "nbformat_minor": 0,
  "metadata": {
    "colab": {
      "name": "pattern.ipynb",
      "provenance": []
    },
    "kernelspec": {
      "name": "python3",
      "display_name": "Python 3"
    },
    "language_info": {
      "name": "python"
    }
  },
  "cells": [
    {
      "cell_type": "code",
      "execution_count": 1,
      "metadata": {
        "colab": {
          "base_uri": "https://localhost:8080/"
        },
        "id": "Xh3r4NaeNC0u",
        "outputId": "545cd247-b98d-4cd7-8d5d-6dec483f59e1"
      },
      "outputs": [
        {
          "output_type": "stream",
          "name": "stdout",
          "text": [
            "   *   \n",
            "  ***  \n",
            " ***** \n",
            "*******\n",
            " ***** \n",
            "  ***  \n",
            "   *   \n"
          ]
        }
      ],
      "source": [
        "for i in range (0,7):\n",
        "    if i<=3:\n",
        "        print((3-i)*\" \"+(2*i+1)*\"*\"+(3-i)*\" \")\n",
        "    else:\n",
        "        print((i-3)*\" \"+(2*(6-i)+1)*\"*\"+(i-3)*\" \")"
      ]
    }
  ]
}